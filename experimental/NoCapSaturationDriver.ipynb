{
 "cells": [
  {
   "cell_type": "code",
   "execution_count": 1,
   "metadata": {},
   "outputs": [],
   "source": [
    "import math\n",
    "import numpy as np\n",
    "import matplotlib.pyplot as plt\n",
    "u0=4*math.pi*10**-7 #vacuum permeability\n",
    "rpoCopper=1.68*10**-8\n",
    "\n",
    "VERBOSE= False\n",
    "class Cap:\n",
    "    v0=0\n",
    "    v=0 # time domain vector\n",
    "    c=0 #uF\n",
    "    esr=0\n",
    "    def __init__(self,voltage,capacitance,esr=0):\n",
    "        self.esr=esr\n",
    "        self.v0=voltage\n",
    "        self.v=self.v0\n",
    "        self.c=capacitance\n",
    "    def getEnergy(self):\n",
    "        return 0.5*(self.c*10**-6)*self.v**2\n",
    "class Bullet:\n",
    "    d=0\n",
    "    v=0\n",
    "    a=0\n",
    "    def __init__(self,m,length,diameter,ur=6.3*10**-3,saturation=0.75):\n",
    "        self.m=m #grams\n",
    "        self.length=length #mm\n",
    "        self.diameter=diameter #mm\n",
    "        self.ur=ur #relative permeability\n",
    "        self.caliber=np.pi*(self.diameter/2)**2  # crosssection area\n",
    "        self.saturation=saturation   #saturation (Tesla)\n",
    "    def getMaxForce(self):\n",
    "        return self.saturation**2*self.caliber*10**-6/2/u0\n",
    "\n",
    "class Coil:\n",
    "    #default values\n",
    "    L=0  # uH\n",
    "    R=0  # Ohm\n",
    "    n=0  # turns\n",
    "    width=0   #mm\n",
    "    innerDia=5  #mm\n",
    "    outerDia=5  #mm\n",
    "    gauge=20  #AWG\n",
    "    AWGLUT={1:7.3481,2:6.5437,3:5.8273,4:5.1894,5:4.6213,6:4.1154,7:3.6649,8:3.2636,9:2.9064,10:2.5882,11:2.3048,12:2.0525,13:1.8278,14:1.6277,15:1.4495,16:1.2908,17:1.1495,18:1.0237,19:0.9116,20:0.8118,21:0.7229,22:0.6438,23:0.5733,24:0.5106,25:0.4547,26:0.4049,27:0.3606,28:0.3211,29:0.2859,30:0.2546,31:0.2268,32:0.2019,33:0.1798,34:0.1601,35:0.1426,36:0.1270,37:0.1131,38:0.1007,39:0.0897,40:0.0799}\n",
    "    def __init__(self,n,innerDia,width,gauge): #input, n:turns, innerDia:inner diameter(mm), length(mm), gauge(awg)\n",
    "        self.n=n\n",
    "        self.width=width\n",
    "        self.innerDia=innerDia\n",
    "        self.gauge=gauge\n",
    "        self.wireDia=self.AWGLUT[self.gauge]\n",
    "        self.tpl=math.ceil(self.width/self.wireDia) # turns per layer\n",
    "        self.width=self.tpl*self.wireDia # actual width\n",
    "        self.layers=math.ceil(self.n/self.tpl)\n",
    "        self.outerDia=self.innerDia+2*(self.layers*self.wireDia)    # return inner_dia + 2 * layer * wire_dia\n",
    "\n",
    "        remainingTurns=self.n\n",
    "        self.wireLength=0\n",
    "        for layer in range(self.layers):\n",
    "            D=self.innerDia+2*layer*self.wireDia\n",
    "            if remainingTurns>= self.tpl:\n",
    "                LayerL=self.tpl**2*u0*(D*10**-3/2)*(np.log(8*D/self.wireDia)-2)\n",
    "                layerl=D*math.pi*self.tpl\n",
    "            else:\n",
    "                LayerL=remainingTurns**2*u0*(D*10**-3/2)*(np.log(8*D/self.wireDia)-2)\n",
    "                layerl=D*math.pi*remainingTurns\n",
    "#             print(LayerL, layerl)\n",
    "            self.L+= LayerL\n",
    "            self.wireLength +=layerl\n",
    "            remainingTurns=remainingTurns-self.tpl\n",
    "        self.L=self.L * 10**6 # H to uH\n",
    "        self.R=rpoCopper*self.wireLength*10**-3/(math.pi*(self.wireDia*10**-3/2)**2)\n",
    "        \n",
    "\n",
    "\n",
    "'''\n",
    "Plan: emulate di/dt on the on and off ramp, cut off needs to happen before projectile hits center of the coil to minimize pullback\n",
    "need to emulate how early onramp needs to kick it to ensure enough time has passed to kick into the full force\n",
    "\n",
    "'''\n",
    "class Stage():\n",
    "    def __init__(self,coil,capacitor,bullet,offset=20):\n",
    "        self.coil=coil\n",
    "        self.capacitor=capacitor\n",
    "        self.offset=offset\n",
    "        self.bullet=bullet\n",
    "\n",
    "    def simulate(self,duration,runcycle,plot=False):\n",
    "        \n",
    "        # Iconstant= battery supplied constant corruent (Assume 0.2 Ohm PD path)\n",
    "        Iconstant=self.capacitor.v0/(self.coil.R+0.2)\n",
    "        timestep=duration/runcycle;\n",
    "\n",
    "        tTrain=np.linspace(0,duration,runcycle)\n",
    "        \n",
    "        Icharging=Iconstant*(1-np.exp(-tTrain*(self.coil.R+0.2)/self.coil.L))\n",
    "        maxforce=self.bullet.getMaxForce()\n",
    "       \n",
    "        plt.plot(Iactual)\n",
    "        #simulate force transient\n",
    "        iterr = iter(range(runcycle))\n",
    "        next(iterr) # skip first term\n",
    "        for i in iterr:\n",
    "            if dis[i-1]*1000<self.offset:\n",
    "                force[i]=(self.coil.n*Iflywheel[i])**2*u0*self.bullet.caliber*10**-6/2/((self.offset*10**-3-dis[i-1]))**2\n",
    "                if VERBOSE:\n",
    "                    print('before %.4f %.4f %d',dis[i-1],force[i],i)\n",
    "            elif (self.offset-dis[i-1]*1000 <= 0 and dis[i-1]*1000-self.offset <= self.coil.width ): # if in coil\n",
    "                force[i]=(.5-((dis[i-1]*10**3-self.offset)/self.coil.width))*2* (self.bullet.ur*u0*self.coil.n*Iflywheel[i])**2*self.bullet.caliber*10**-6/2/u0\n",
    "                if VERBOSE:\n",
    "                    print('within %.4f %.4f %d',dis[i-1],.5-((dis[i-1]*10**3-self.offset)/self.coil.width),i)\n",
    "            elif dis[i-1]*1000-self.offset-self.coil.width>0:\n",
    "                force[i]=-(self.coil.n*Iflywheel[i])**2*u0*self.bullet.caliber*10**-6/2/((dis[i-1]-self.offset*10**-3-self.coil.width*10**-3))**2\n",
    "                if VERBOSE:\n",
    "                    print('beyond %.4f %.4f %d',dis[i-1],force[i],i)\n",
    "\n",
    "            force_raw[i]=force[i];\n",
    "            if force[i]>0:\n",
    "                force[i] = min(force[i],maxforce);\n",
    "            else:\n",
    "                force[i] = -min(-force[i],maxforce);\n",
    "\n",
    "            acc[i]=force[i]/(self.bullet.m*10**-3);\n",
    "            v[i]=v[i-1]+acc[i]*timestep;\n",
    "            dis[i]=dis[i-1]+v[i]*timestep;\n",
    "        plt.plot(Iflywheel)\n",
    "        plt.show()\n",
    "\n",
    "        outenergy=0.5*(self.bullet.m*10**-3)*v[-1]**2;\n",
    "        inenergy=self.capacitor.getEnergy()\n",
    "        return outenergy/inenergy\n",
    "\n"
   ]
  },
  {
   "cell_type": "code",
   "execution_count": 2,
   "metadata": {},
   "outputs": [
    {
     "name": "stdout",
     "output_type": "stream",
     "text": [
      "1.780930169679983e-05 769.6902001294993\n",
      "9.635500639389152e-09 18.916157685794865\n",
      "17.81893719743922\n"
     ]
    },
    {
     "ename": "NameError",
     "evalue": "name 'Iactual' is not defined",
     "output_type": "error",
     "traceback": [
      "\u001b[0;31m---------------------------------------------------------------------------\u001b[0m",
      "\u001b[0;31mNameError\u001b[0m                                 Traceback (most recent call last)",
      "\u001b[0;32m<ipython-input-2-85c894d7c356>\u001b[0m in \u001b[0;36m<module>\u001b[0;34m\u001b[0m\n\u001b[1;32m      6\u001b[0m \u001b[0;34m\u001b[0m\u001b[0m\n\u001b[1;32m      7\u001b[0m \u001b[0mstage1\u001b[0m\u001b[0;34m=\u001b[0m\u001b[0mStage\u001b[0m\u001b[0;34m(\u001b[0m\u001b[0mmyCoil\u001b[0m\u001b[0;34m,\u001b[0m\u001b[0mstage1Cap\u001b[0m\u001b[0;34m,\u001b[0m\u001b[0mironBall\u001b[0m\u001b[0;34m,\u001b[0m\u001b[0;36m1\u001b[0m\u001b[0;34m)\u001b[0m \u001b[0;31m#1mm offset\u001b[0m\u001b[0;34m\u001b[0m\u001b[0;34m\u001b[0m\u001b[0m\n\u001b[0;32m----> 8\u001b[0;31m \u001b[0meffi\u001b[0m\u001b[0;34m=\u001b[0m\u001b[0mstage1\u001b[0m\u001b[0;34m.\u001b[0m\u001b[0msimulate\u001b[0m\u001b[0;34m(\u001b[0m\u001b[0;36m0.01\u001b[0m\u001b[0;34m,\u001b[0m\u001b[0;36m1000\u001b[0m\u001b[0;34m)\u001b[0m\u001b[0;34m\u001b[0m\u001b[0;34m\u001b[0m\u001b[0m\n\u001b[0m\u001b[1;32m      9\u001b[0m \u001b[0mprint\u001b[0m\u001b[0;34m(\u001b[0m\u001b[0meffi\u001b[0m\u001b[0;34m)\u001b[0m\u001b[0;34m\u001b[0m\u001b[0;34m\u001b[0m\u001b[0m\n",
      "\u001b[0;32m<ipython-input-1-beacc579e509>\u001b[0m in \u001b[0;36msimulate\u001b[0;34m(self, duration, runcycle, plot)\u001b[0m\n\u001b[1;32m     95\u001b[0m         \u001b[0mmaxforce\u001b[0m\u001b[0;34m=\u001b[0m\u001b[0mself\u001b[0m\u001b[0;34m.\u001b[0m\u001b[0mbullet\u001b[0m\u001b[0;34m.\u001b[0m\u001b[0mgetMaxForce\u001b[0m\u001b[0;34m(\u001b[0m\u001b[0;34m)\u001b[0m\u001b[0;34m\u001b[0m\u001b[0;34m\u001b[0m\u001b[0m\n\u001b[1;32m     96\u001b[0m \u001b[0;34m\u001b[0m\u001b[0m\n\u001b[0;32m---> 97\u001b[0;31m         \u001b[0mplt\u001b[0m\u001b[0;34m.\u001b[0m\u001b[0mplot\u001b[0m\u001b[0;34m(\u001b[0m\u001b[0mIactual\u001b[0m\u001b[0;34m)\u001b[0m\u001b[0;34m\u001b[0m\u001b[0;34m\u001b[0m\u001b[0m\n\u001b[0m\u001b[1;32m     98\u001b[0m         \u001b[0;31m#simulate force transient\u001b[0m\u001b[0;34m\u001b[0m\u001b[0;34m\u001b[0m\u001b[0;34m\u001b[0m\u001b[0m\n\u001b[1;32m     99\u001b[0m         \u001b[0miterr\u001b[0m \u001b[0;34m=\u001b[0m \u001b[0miter\u001b[0m\u001b[0;34m(\u001b[0m\u001b[0mrange\u001b[0m\u001b[0;34m(\u001b[0m\u001b[0mruncycle\u001b[0m\u001b[0;34m)\u001b[0m\u001b[0;34m)\u001b[0m\u001b[0;34m\u001b[0m\u001b[0;34m\u001b[0m\u001b[0m\n",
      "\u001b[0;31mNameError\u001b[0m: name 'Iactual' is not defined"
     ]
    }
   ],
   "source": [
    "myCoil=Coil(50,5,25,24)#n,innerDia,width,gauge\n",
    "print(myCoil.L)\n",
    "ironBall=Bullet(2.9,19,4.76) #m,length,diameter,ur=6.3*10**-3,saturation=0.75):\n",
    "#2.9g, 19mm long, 4.76 mm diameter\n",
    "stage1Cap=Cap(20,1200,0.1) #,voltage,capacitance,esr=0):\n",
    "\n",
    "stage1=Stage(myCoil,stage1Cap,ironBall,1) #1mm offset\n",
    "effi=stage1.simulate(0.01,1000)\n",
    "print(effi)"
   ]
  },
  {
   "cell_type": "code",
   "execution_count": 3,
   "metadata": {},
   "outputs": [],
   "source": [
    "tTrain=np.linspace(0,0.05,500)\n",
    "Icharging=60*(1-np.exp(-tTrain*(.1+0.2)/0.005))"
   ]
  },
  {
   "cell_type": "code",
   "execution_count": 4,
   "metadata": {},
   "outputs": [
    {
     "data": {
      "text/plain": [
       "[<matplotlib.lines.Line2D at 0x1207a63c8>]"
      ]
     },
     "execution_count": 4,
     "metadata": {},
     "output_type": "execute_result"
    },
    {
     "data": {
      "image/png": "[encoded data removed]",
      "text/plain": [
       "<Figure size 432x288 with 1 Axes>"
      ]
     },
     "metadata": {
      "needs_background": "light"
     },
     "output_type": "display_data"
    }
   ],
   "source": [
    "plt.plot(Icharging)"
   ]
  },
  {
   "cell_type": "code",
   "execution_count": 5,
   "metadata": {},
   "outputs": [],
   "source": [
    "maxF=ironBall.getMaxForce()"
   ]
  },
  {
   "cell_type": "code",
   "execution_count": 6,
   "metadata": {},
   "outputs": [
    {
     "data": {
      "text/plain": [
       "3.9827812499999995"
      ]
     },
     "execution_count": 6,
     "metadata": {},
     "output_type": "execute_result"
    }
   ],
   "source": [
    "maxF"
   ]
  },
  {
   "cell_type": "code",
   "execution_count": 7,
   "metadata": {},
   "outputs": [
    {
     "data": {
      "text/plain": [
       "1.798560288"
      ]
     },
     "execution_count": 7,
     "metadata": {},
     "output_type": "execute_result"
    }
   ],
   "source": [
    "I=1(ironBall.ur*80*I)**2*ironBall.caliber*10**-6/2/u0"
   ]
  },
  {
   "cell_type": "code",
   "execution_count": null,
   "metadata": {},
   "outputs": [],
   "source": []
  }
 ],
 "metadata": {
  "kernelspec": {
   "display_name": "Python 3",
   "language": "python",
   "name": "python3"
  },
  "language_info": {
   "codemirror_mode": {
    "name": "ipython",
    "version": 3
   },
   "file_extension": ".py",
   "mimetype": "text/x-python",
   "name": "python",
   "nbconvert_exporter": "python",
   "pygments_lexer": "ipython3",
   "version": "3.7.1"
  }
 },
 "nbformat": 4,
 "nbformat_minor": 2
}
