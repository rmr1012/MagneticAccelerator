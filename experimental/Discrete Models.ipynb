{
 "cells": [
  {
   "cell_type": "code",
   "execution_count": 5,
   "metadata": {},
   "outputs": [],
   "source": [
    "import os,sys\n",
    "import pandas\n",
    "import numpy as np\n",
    "import matplotlib.pyplot as plt\n",
    "import math"
   ]
  },
  {
   "cell_type": "code",
   "execution_count": 7,
   "metadata": {},
   "outputs": [],
   "source": [
    "u0=4*math.pi*10**-7 #vacuum permeability\n",
    "rpoCopper=1.68*10**-8\n",
    "\n"
   ]
  },
  {
   "cell_type": "code",
   "execution_count": 2,
   "metadata": {},
   "outputs": [],
   "source": [
    "class Bullet:\n",
    "    d=0\n",
    "    v=0\n",
    "    a=0\n",
    "    def __init__(self,m,length,diameter,ur=6.3*10**-3,saturation=0.75):\n",
    "        self.m=m #grams\n",
    "        self.length=length #mm\n",
    "        self.diameter=diameter #mm\n",
    "        self.ur=ur #relative permeability\n",
    "        self.caliber=np.pi*(self.diameter/2)**2  # crosssection area\n",
    "        self.saturation=saturation   #saturation (Tesla)\n",
    "    def getMaxForce(self):\n",
    "        return self.saturation**2*self.caliber*10**-6/2/u0\n",
    "\n"
   ]
  },
  {
   "cell_type": "code",
   "execution_count": 437,
   "metadata": {},
   "outputs": [],
   "source": [
    "class Coil:\n",
    "    #default values\n",
    "    L=0  # uH\n",
    "    R=0  # Ohm\n",
    "    n=0  # turns\n",
    "    width=0   #mm\n",
    "    innerDia=5  #mm\n",
    "    outerDia=5  #mm\n",
    "    gauge=20  #AWG\n",
    "    AWGLUT={1:7.3481,2:6.5437,3:5.8273,4:5.1894,5:4.6213,6:4.1154,7:3.6649,8:3.2636,9:2.9064,10:2.5882,11:2.3048,12:2.0525,13:1.8278,14:1.6277,15:1.4495,16:1.2908,17:1.1495,18:1.0237,19:0.9116,20:0.8118,21:0.7229,22:0.6438,23:0.5733,24:0.5106,25:0.4547,26:0.4049,27:0.3606,28:0.3211,29:0.2859,30:0.2546,31:0.2268,32:0.2019,33:0.1798,34:0.1601,35:0.1426,36:0.1270,37:0.1131,38:0.1007,39:0.0897,40:0.0799}\n",
    "    def __init__(self,n,innerDia,width,gauge): #input, n:turns, innerDia:inner diameter(mm), length(mm), gauge(awg)\n",
    "        self.n=n\n",
    "        self.width=width\n",
    "        self.innerDia=innerDia\n",
    "        self.gauge=gauge\n",
    "        self.wireDia=self.AWGLUT[self.gauge]\n",
    "        self.tpl=math.ceil(self.width/self.wireDia) # turns per layer\n",
    "        self.width=self.tpl*self.wireDia # actual width\n",
    "        self.layers=math.ceil(self.n/self.tpl)\n",
    "        self.outerDia=self.innerDia+2*(self.layers*self.wireDia)    # return inner_dia + 2 * layer * wire_dia\n",
    "\n",
    "        remainingTurns=self.n\n",
    "        self.wireLength=0\n",
    "        for layer in range(self.layers):\n",
    "            D=self.innerDia+2*layer*self.wireDia\n",
    "            if remainingTurns>= self.tpl:\n",
    "                LayerL=self.tpl**2*u0*(D*10**-3/2)*(np.log(8*D/self.wireDia)-2)\n",
    "                layerl=D*math.pi*self.tpl\n",
    "            else:\n",
    "                LayerL=remainingTurns**2*u0*(D*10**-3/2)*(np.log(8*D/self.wireDia)-2)\n",
    "                layerl=D*math.pi*remainingTurns\n",
    "#             print(LayerL, layerl)\n",
    "            self.L+= LayerL\n",
    "            self.wireLength +=layerl\n",
    "            remainingTurns=remainingTurns-self.tpl\n",
    "        self.L=self.L * 10**6 # H to uH\n",
    "        self.R=rpoCopper*self.wireLength*10**-3/(math.pi*(self.wireDia*10**-3/2)**2)\n",
    "#         print(self.__dict__)\n",
    "\n"
   ]
  },
  {
   "cell_type": "code",
   "execution_count": 452,
   "metadata": {},
   "outputs": [],
   "source": [
    "class PowerSource:\n",
    "    Ri=0.25\n",
    "    V=20\n",
    "    def __init__(self,Ri,V):\n",
    "        self.Ri=Ri\n",
    "        self.V=V"
   ]
  },
  {
   "cell_type": "code",
   "execution_count": null,
   "metadata": {},
   "outputs": [],
   "source": []
  },
  {
   "cell_type": "code",
   "execution_count": 338,
   "metadata": {},
   "outputs": [],
   "source": [
    "'''\n",
    "Generates a normal vector for the force, to get force, multiply that by the max force\n",
    "'''\n",
    "def sigmoid(x,offset,width):\n",
    "        return 1/(1+np.exp(10/width*(-x+1+offset)))\n",
    "def posToForceVector(coil,proj,pos): #datum for coil back edge and proj is front edge\n",
    "#     coil.width\n",
    "    #datum transformation\n",
    "    fullL=coil.width+proj.length\n",
    "    relposB=pos-proj.length/2\n",
    "    relposC=coil.width/2\n",
    "#     print(relposB,relposC)\n",
    "    dist=relposB-relposC\n",
    "    \n",
    "#     print(dist)\n",
    "    \n",
    "    forceSine=-math.sin(2*np.pi*dist/(fullL))\n",
    "    fstInf=-(fullL)/4\n",
    "    secInf=(fullL)/4\n",
    "    \n",
    "    def fstRmp(dist):\n",
    "        return sigmoid(dist,(-3/8)*fullL,fullL/4) # function smooth switcher \n",
    "    def secRmp(dist):\n",
    "        return sigmoid(dist,(3/8)*fullL,fullL/4) \n",
    "    def upRoll(dist):#inverse function for out of coil\n",
    "        if dist>-fullL/4:\n",
    "            return 1\n",
    "        else:\n",
    "            return 1/(-dist-fullL/4+1)\n",
    "    def downRoll(dist):\n",
    "        if dist<fullL/4:\n",
    "            return -1\n",
    "        else:\n",
    "            return -1/((dist-fullL/4+1))\n",
    "#     secRmp=lambda dist: (dist-secInf)/fstInf\n",
    "#     print(fstInf,secInf)\n",
    "    if dist<-fullL/2:\n",
    "        force=upRoll(dist)\n",
    "    elif dist>=-fullL/2 and dist<-fullL/4:\n",
    "        force=upRoll(dist)*(1-fstRmp(dist))+(fstRmp(dist))*forceSine\n",
    "    elif dist>=-fullL/4 and dist<=fullL/4:\n",
    "        force=forceSine\n",
    "    elif dist>=fullL/4 and dist<fullL/2:\n",
    "        force=downRoll(dist)*secRmp(dist)+(1-secRmp(dist))*forceSine\n",
    "    else:\n",
    "        force=downRoll(dist)\n",
    "#TODO: Replace ramp with ReLu\n",
    "    return force\n",
    "    return secRmp(dist)\n",
    "#     return upRoll(dist)"
   ]
  },
  {
   "cell_type": "code",
   "execution_count": 426,
   "metadata": {},
   "outputs": [],
   "source": [
    "def currentToForce(coil,current): # use MMF to Force TF to determine force scalar\n",
    "    # exp data shows square relationship\n",
    "    # need to plot MMf v F at fixed dist # don't care about voltage\n",
    "    #use Matlab 3d curve fit to find func\n",
    "    kc=0.0025#conversion  factor\n",
    "    MMF=coil.n*current\n",
    "    force=kc*MMF\n",
    "    return force"
   ]
  },
  {
   "cell_type": "code",
   "execution_count": 427,
   "metadata": {},
   "outputs": [
    {
     "name": "stdout",
     "output_type": "stream",
     "text": [
      "{'n': 50, 'width': 25.0194, 'innerDia': 5, 'gauge': 24, 'wireDia': 0.5106, 'tpl': 49, 'layers': 2, 'outerDia': 7.042400000000001, 'wireLength': 788.6063578152941, 'L': 17.81893719743922, 'R': 0.06470205187049818}\n"
     ]
    },
    {
     "data": {
      "text/plain": [
       "[<matplotlib.lines.Line2D at 0x12749f5f8>]"
      ]
     },
     "execution_count": 427,
     "metadata": {},
     "output_type": "execute_result"
    },
    {
     "data": {
      "image/png": "[encoded data removed]",
      "text/plain": [
       "<Figure size 432x288 with 1 Axes>"
      ]
     },
     "metadata": {
      "needs_background": "light"
     },
     "output_type": "display_data"
    }
   ],
   "source": [
    "myCoil=Coil(50,5,25,24) #n,innerDia,width,gauge\n",
    "ironBall=Bullet(2.9,20,4.76) #mass(g),length,diameter,ur=6.3*10**-3,saturation=0.75):\n",
    "\n",
    "\n",
    "\n",
    "forceVec=[]\n",
    "distTrain=np.linspace(-10,60,100)\n",
    "for i in distTrain:\n",
    "    forceVec.append(posToForceVector(myCoil,ironBall,i)*currentToForce(myCoil,50))\n",
    "plt.plot(distTrain,forceVec)"
   ]
  },
  {
   "cell_type": "code",
   "execution_count": 428,
   "metadata": {},
   "outputs": [
    {
     "data": {
      "text/plain": [
       "[<matplotlib.lines.Line2D at 0x12833f0b8>]"
      ]
     },
     "execution_count": 428,
     "metadata": {},
     "output_type": "execute_result"
    },
    {
     "data": {
      "image/png": "[encoded data removed]",
      "text/plain": [
       "<Figure size 432x288 with 1 Axes>"
      ]
     },
     "metadata": {
      "needs_background": "light"
     },
     "output_type": "display_data"
    }
   ],
   "source": [
    "def PG(x,offset,width):\n",
    "    return 1/(1+np.exp(10/width*(-x+1+offset)))\n",
    "train=np.linspace(0,5,100)\n",
    "vec=[]\n",
    "for i in train:\n",
    "    vec.append(PG(i,2,2))\n",
    "plt.plot(train,vec)"
   ]
  },
  {
   "cell_type": "code",
   "execution_count": 499,
   "metadata": {},
   "outputs": [],
   "source": [
    "class Stage():\n",
    "    def __init__(self,coil,bullet,PS):\n",
    "        self.coil=coil\n",
    "        self.bullet=bullet\n",
    "        self.PS=PS\n",
    "    def idealStageSim(self,offset,enterV): # on offset dist, enter velocity(m/s)\n",
    "        fullL=self.coil.width+self.bullet.length\n",
    "        if enterV:\n",
    "            simTime=(fullL*0.001)/enterV #mm to m\n",
    "        else:\n",
    "            simTime=0.02 #20ms default\n",
    "        simSteps=500 # discrete steps\n",
    "        dt=simTime/simSteps\n",
    "        timeTrain=np.linspace(0,simTime,simSteps)\n",
    "        current=self.PS.V/(self.PS.Ri+self.coil.R)\n",
    "        FScalar=currentToForce(self.coil,current)#replace with real current estimate\n",
    "        #Stage Variables:\n",
    "        # V (velocity) m/s\n",
    "        V=enterV\n",
    "        # D (position, 0 is coil entrance) mm\n",
    "        D=-offset\n",
    "        # A (acceleration, result of force)\n",
    "        A=0\n",
    "        # \n",
    "        #Stage Variable Tracking Vectors\n",
    "        Va=[]\n",
    "        Da=[]\n",
    "        Aa=[]\n",
    "        Fa=[]\n",
    "        for t in timeTrain:\n",
    "            F=0\n",
    "            if (D-self.bullet.length/2)<self.coil.width/2:# if center of bullet is before center of coil\n",
    "                F=posToForceVector(self.coil,self.bullet,D)*FScalar\n",
    "            A=F/(self.bullet.m/1000) # g to kg\n",
    "            V=V+dt*A\n",
    "            D=D+dt*V*1000 # m/s to mm/s\n",
    "            Fa.append(F)\n",
    "            Va.append(V)\n",
    "            Aa.append(A)\n",
    "            Da.append(D)\n",
    "        exitV=np.interp(fullL,Da,Va)\n",
    "#         print(\"exit velocity:\"+str(exitV))\n",
    "        lapseT=np.interp(fullL,Da,timeTrain)\n",
    "#         print(str(lapseT*1000)+\" ms to exit\")\n",
    "        onT=np.interp(fullL/2,Da,timeTrain)\n",
    "#         print(str(onT*1000)+\" ms pulse\")\n",
    "        plt.plot(Da,Va)\n",
    "        energy=onT*current*self.PS.V\n",
    "        return exitV, energy"
   ]
  },
  {
   "cell_type": "code",
   "execution_count": 501,
   "metadata": {},
   "outputs": [
    {
     "data": {
      "text/plain": [
       "[<matplotlib.lines.Line2D at 0x12858e7f0>]"
      ]
     },
     "execution_count": 501,
     "metadata": {},
     "output_type": "execute_result"
    },
    {
     "data": {
      "image/png": "[encoded data removed]",
      "text/plain": [
       "<Figure size 432x288 with 1 Axes>"
      ]
     },
     "metadata": {
      "needs_background": "light"
     },
     "output_type": "display_data"
    },
    {
     "data": {
      "image/png": "[encoded data removed]",
      "text/plain": [
       "<Figure size 432x288 with 1 Axes>"
      ]
     },
     "metadata": {
      "needs_background": "light"
     },
     "output_type": "display_data"
    }
   ],
   "source": [
    "dowel=Bullet(2.9,18.75,4.76) #mass(g),length,diameter,ur=6.3*10**-3,saturation=0.75):\n",
    "PS=PowerSource(0.5,40)\n",
    "\n",
    "coil1=Coil(100,7.5,25,23) #n,innerDia,width,gauge\\\n",
    "# stage1=Stage(coil1,dowel)\n",
    "# v1=stage1.idealStageSim(2,0)\n",
    "\n",
    "Vs=0\n",
    "Va=[]\n",
    "Ea=[]\n",
    "ua=[]\n",
    "for i in range(100):\n",
    "    stage1=Stage(coil1,dowel,PS)\n",
    "    Vs,Es=stage1.idealStageSim(2,Vs)\n",
    "    if i == 0:\n",
    "        ua.append(0.5*dowel.m*(Vs-0)**2/Es)\n",
    "    else:\n",
    "        ua.append(0.5*dowel.m*(Vs-Va[-1])**2/Es)\n",
    "    Va.append(Vs)\n",
    "    Ea.append(Es)\n",
    "# coil2=Coil(100,7.5,25,23) #n,innerDia,width,gauge\\\n",
    "# stage2=Stage(coil2,dowel)\n",
    "# v2=stage2.idealStageSim(2,v1)\n",
    "plt.figure()\n",
    "plt.plot(Va)\n"
   ]
  },
  {
   "cell_type": "code",
   "execution_count": 498,
   "metadata": {},
   "outputs": [
    {
     "data": {
      "text/plain": [
       "Text(0, 0.5, 'efficiency')"
      ]
     },
     "execution_count": 498,
     "metadata": {},
     "output_type": "execute_result"
    },
    {
     "data": {
      "image/png": "[encoded data removed]",
      "text/plain": [
       "<Figure size 432x288 with 1 Axes>"
      ]
     },
     "metadata": {
      "needs_background": "light"
     },
     "output_type": "display_data"
    }
   ],
   "source": [
    "\n",
    "plt.figure()\n",
    "plt.plot(ua)\n",
    "plt.xlabel(\"stages\")\n",
    "plt.ylabel(\"efficiency\")"
   ]
  },
  {
   "cell_type": "code",
   "execution_count": 486,
   "metadata": {},
   "outputs": [
    {
     "data": {
      "text/plain": [
       "111.46296309154931"
      ]
     },
     "execution_count": 486,
     "metadata": {},
     "output_type": "execute_result"
    }
   ],
   "source": [
    "Vs"
   ]
  },
  {
   "cell_type": "code",
   "execution_count": null,
   "metadata": {},
   "outputs": [],
   "source": []
  }
 ],
 "metadata": {
  "kernelspec": {
   "display_name": "Python 3",
   "language": "python",
   "name": "python3"
  },
  "language_info": {
   "codemirror_mode": {
    "name": "ipython",
    "version": 3
   },
   "file_extension": ".py",
   "mimetype": "text/x-python",
   "name": "python",
   "nbconvert_exporter": "python",
   "pygments_lexer": "ipython3",
   "version": "3.7.1"
  }
 },
 "nbformat": 4,
 "nbformat_minor": 2
}
